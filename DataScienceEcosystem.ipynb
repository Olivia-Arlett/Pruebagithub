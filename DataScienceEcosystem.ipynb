{
 "cells": [
  {
   "cell_type": "markdown",
   "id": "d354b339-64b2-49b3-958b-12c7e3491866",
   "metadata": {},
   "source": [
    "# Data Science Tools and Ecosystem"
   ]
  },
  {
   "cell_type": "markdown",
   "id": "07e57c3b-d46a-4a6c-830a-36f1d3b573a0",
   "metadata": {},
   "source": [
    "In this Notebook, Data Science Tools and Ecosystems are summarized."
   ]
  },
  {
   "cell_type": "markdown",
   "id": "4f8a1381-4ea8-4873-8f53-93958ee380ec",
   "metadata": {},
   "source": [
    "**Objectives:**\n",
    "- Create a Jupyter Notebook\n",
    "- List popular Data Science lenguages\n",
    "- Create a mark down cell with a table\n"
   ]
  },
  {
   "cell_type": "markdown",
   "id": "06d5adb4-0a74-4236-9c42-1cd531be510c",
   "metadata": {},
   "source": [
    "Some of the popular languages that Data Scientists use are:\n",
    "\n",
    "1. Python\n",
    "2. R\n",
    "3. SQL\n",
    "4. Julia\n"
   ]
  },
  {
   "cell_type": "markdown",
   "id": "0214da37-88d6-4333-a46f-6f1c5cb33441",
   "metadata": {},
   "source": [
    "Some of the commonly used libraries used by Data Scientists are:\n",
    "\n",
    "1. Pandas\n",
    "2. NumPy\n",
    "3. Matplotlib\n",
    "4. Seaborn\n"
   ]
  },
  {
   "cell_type": "markdown",
   "id": "ac9a84e3-12ae-4c8e-b101-86423d19000b",
   "metadata": {},
   "source": [
    "|Data Science tools|\n",
    "|-------------------|\n",
    "|Jupyter Notebook|\n",
    "|Visual Studio|\n",
    "|Jupyter Lab|\n",
    "\n"
   ]
  },
  {
   "cell_type": "markdown",
   "id": "33b989eb-80c9-4b9b-b00c-70f5e1af780b",
   "metadata": {},
   "source": [
    "### Below are a few examples of evaluating arithmetic expressions in Python"
   ]
  },
  {
   "cell_type": "markdown",
   "id": "b83c127a-c36a-410f-9295-01e321393a60",
   "metadata": {},
   "source": [
    "This is a simple arithmetic expression to multiply and add integers"
   ]
  },
  {
   "cell_type": "code",
   "execution_count": 7,
   "id": "cb536b21-1279-4f3e-8616-a0cfbacac84b",
   "metadata": {},
   "outputs": [
    {
     "data": {
      "text/plain": [
       "17"
      ]
     },
     "execution_count": 7,
     "metadata": {},
     "output_type": "execute_result"
    }
   ],
   "source": [
    "(3*4)+5"
   ]
  },
  {
   "cell_type": "markdown",
   "id": "f2d5e82b-0d3d-47b0-85b6-823cc6588ec5",
   "metadata": {},
   "source": [
    "This will convert 200 minutes to hours by dividing by 60"
   ]
  },
  {
   "cell_type": "code",
   "execution_count": 1,
   "id": "cb46a33d-f927-4ebe-8a25-5462d75c1964",
   "metadata": {},
   "outputs": [
    {
     "data": {
      "text/plain": [
       "3.3333333333333335"
      ]
     },
     "execution_count": 1,
     "metadata": {},
     "output_type": "execute_result"
    }
   ],
   "source": [
    "200/60"
   ]
  },
  {
   "cell_type": "markdown",
   "id": "f30fb276-8586-407c-a369-fdcbe4102f7f",
   "metadata": {},
   "source": [
    "## Author\n",
    "Olivia Peralta"
   ]
  },
  {
   "cell_type": "code",
   "execution_count": null,
   "id": "f21c208b-5a95-4fe7-963b-83a98ebd1b2b",
   "metadata": {},
   "outputs": [],
   "source": []
  }
 ],
 "metadata": {
  "kernelspec": {
   "display_name": "Python 3 (ipykernel)",
   "language": "python",
   "name": "python3"
  },
  "language_info": {
   "codemirror_mode": {
    "name": "ipython",
    "version": 3
   },
   "file_extension": ".py",
   "mimetype": "text/x-python",
   "name": "python",
   "nbconvert_exporter": "python",
   "pygments_lexer": "ipython3",
   "version": "3.12.9"
  }
 },
 "nbformat": 4,
 "nbformat_minor": 5
}
